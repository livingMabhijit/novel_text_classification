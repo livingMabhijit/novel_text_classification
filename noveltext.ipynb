{
  "nbformat": 4,
  "nbformat_minor": 0,
  "metadata": {
    "colab": {
      "name": "noveltext.ipynb",
      "provenance": [],
      "collapsed_sections": [],
      "mount_file_id": "1DFJUDXsyMXdC62m4lpoWSh_6PLN5P5x1",
      "authorship_tag": "ABX9TyPopUPUdPSsEn0N+6SKbQh6",
      "include_colab_link": true
    },
    "kernelspec": {
      "name": "python3",
      "display_name": "Python 3"
    },
    "language_info": {
      "name": "python"
    },
    "accelerator": "TPU"
  },
  "cells": [
    {
      "cell_type": "markdown",
      "metadata": {
        "id": "view-in-github",
        "colab_type": "text"
      },
      "source": [
        "<a href=\"https://colab.research.google.com/github/livingMabhijit/novel_text_classification/blob/main/noveltext.ipynb\" target=\"_parent\"><img src=\"https://colab.research.google.com/assets/colab-badge.svg\" alt=\"Open In Colab\"/></a>"
      ]
    },
    {
      "cell_type": "code",
      "metadata": {
        "id": "zUzV5QipcO5Y"
      },
      "source": [
        "import pandas as pd\n",
        "import numpy as np\n",
        "import matplotlib.pyplot as plt\n",
        "from keras.preprocessing.text import Tokenizer,text_to_word_sequence\n",
        "from keras.preprocessing.sequence import pad_sequences\n",
        "from keras.utils.np_utils import to_categorical\n",
        "from keras.layers import Dense, LSTM, Embedding\n",
        "from keras.models import Sequential\n"
      ],
      "execution_count": 3,
      "outputs": []
    },
    {
      "cell_type": "code",
      "metadata": {
        "id": "wv0lwHjDWxfd"
      },
      "source": [
        "text_df = pd.read_fwf('/content/drive/MyDrive/Tensorflow_datasets_ryan/xtrain_obfuscated.txt',header=None,names=['Text'])"
      ],
      "execution_count": 4,
      "outputs": []
    },
    {
      "cell_type": "code",
      "metadata": {
        "colab": {
          "base_uri": "https://localhost:8080/",
          "height": 419
        },
        "id": "9iKfuppJcezW",
        "outputId": "22072612-98c1-4b8c-c970-64c2bc7bd406"
      },
      "source": [
        "text_df"
      ],
      "execution_count": 5,
      "outputs": [
        {
          "output_type": "execute_result",
          "data": {
            "text/html": [
              "<div>\n",
              "<style scoped>\n",
              "    .dataframe tbody tr th:only-of-type {\n",
              "        vertical-align: middle;\n",
              "    }\n",
              "\n",
              "    .dataframe tbody tr th {\n",
              "        vertical-align: top;\n",
              "    }\n",
              "\n",
              "    .dataframe thead th {\n",
              "        text-align: right;\n",
              "    }\n",
              "</style>\n",
              "<table border=\"1\" class=\"dataframe\">\n",
              "  <thead>\n",
              "    <tr style=\"text-align: right;\">\n",
              "      <th></th>\n",
              "      <th>Text</th>\n",
              "    </tr>\n",
              "  </thead>\n",
              "  <tbody>\n",
              "    <tr>\n",
              "      <th>0</th>\n",
              "      <td>satwamuluhqgulamlrmvezuhqvkrpmletwulcitwskuhle...</td>\n",
              "    </tr>\n",
              "    <tr>\n",
              "      <th>1</th>\n",
              "      <td>twmkiwpmqvtwleuhsaiwsktwmvlelekramuhqvkruhtwsk...</td>\n",
              "    </tr>\n",
              "    <tr>\n",
              "      <th>2</th>\n",
              "      <td>vidfpmskuhvilepmuluhtwtvuhulsovienamqvuhskiwmv...</td>\n",
              "    </tr>\n",
              "    <tr>\n",
              "      <th>3</th>\n",
              "      <td>raskleenkrlruhtwulenleengztwqvuhenuhsatvuhsktw...</td>\n",
              "    </tr>\n",
              "    <tr>\n",
              "      <th>4</th>\n",
              "      <td>dfenqvuhtwamqvuhqgtwiwtvenuluhqvijletwamulenxe...</td>\n",
              "    </tr>\n",
              "    <tr>\n",
              "      <th>...</th>\n",
              "      <td>...</td>\n",
              "    </tr>\n",
              "    <tr>\n",
              "      <th>32508</th>\n",
              "      <td>gzpmamqvmvdfuhtwamuluhvitwamdfuhvipmonmvlepmam...</td>\n",
              "    </tr>\n",
              "    <tr>\n",
              "      <th>32509</th>\n",
              "      <td>qvkrpmmvyppmletwxeuhiwenletwmktwqvuhvidfpmskuh...</td>\n",
              "    </tr>\n",
              "    <tr>\n",
              "      <th>32510</th>\n",
              "      <td>qvmvamuhleentwtvuhpmuluhskvienuhqgtwxemviwuhqv...</td>\n",
              "    </tr>\n",
              "    <tr>\n",
              "      <th>32511</th>\n",
              "      <td>ralrvimvamypenpmlegzgzenuhqvendfuhgztwulqvuhtw...</td>\n",
              "    </tr>\n",
              "    <tr>\n",
              "      <th>32512</th>\n",
              "      <td>twiwtvenvipmmvulqvtwkrszuhqvmvamuhsktwmktwmvam...</td>\n",
              "    </tr>\n",
              "  </tbody>\n",
              "</table>\n",
              "<p>32513 rows × 1 columns</p>\n",
              "</div>"
            ],
            "text/plain": [
              "                                                    Text\n",
              "0      satwamuluhqgulamlrmvezuhqvkrpmletwulcitwskuhle...\n",
              "1      twmkiwpmqvtwleuhsaiwsktwmvlelekramuhqvkruhtwsk...\n",
              "2      vidfpmskuhvilepmuluhtwtvuhulsovienamqvuhskiwmv...\n",
              "3      raskleenkrlruhtwulenleengztwqvuhenuhsatvuhsktw...\n",
              "4      dfenqvuhtwamqvuhqgtwiwtvenuluhqvijletwamulenxe...\n",
              "...                                                  ...\n",
              "32508  gzpmamqvmvdfuhtwamuluhvitwamdfuhvipmonmvlepmam...\n",
              "32509  qvkrpmmvyppmletwxeuhiwenletwmktwqvuhvidfpmskuh...\n",
              "32510  qvmvamuhleentwtvuhpmuluhskvienuhqgtwxemviwuhqv...\n",
              "32511  ralrvimvamypenpmlegzgzenuhqvendfuhgztwulqvuhtw...\n",
              "32512  twiwtvenvipmmvulqvtwkrszuhqvmvamuhsktwmktwmvam...\n",
              "\n",
              "[32513 rows x 1 columns]"
            ]
          },
          "metadata": {
            "tags": []
          },
          "execution_count": 5
        }
      ]
    },
    {
      "cell_type": "code",
      "metadata": {
        "colab": {
          "base_uri": "https://localhost:8080/",
          "height": 419
        },
        "id": "lFfUt_erdx11",
        "outputId": "c3ba3826-36e3-433c-9a34-52fa1baadf3e"
      },
      "source": [
        "novel_df = pd.read_fwf('/content/drive/MyDrive/Tensorflow_datasets_ryan/ytrain.txt',header=None,names=['Novel'])\n",
        "novel_df\n"
      ],
      "execution_count": 6,
      "outputs": [
        {
          "output_type": "execute_result",
          "data": {
            "text/html": [
              "<div>\n",
              "<style scoped>\n",
              "    .dataframe tbody tr th:only-of-type {\n",
              "        vertical-align: middle;\n",
              "    }\n",
              "\n",
              "    .dataframe tbody tr th {\n",
              "        vertical-align: top;\n",
              "    }\n",
              "\n",
              "    .dataframe thead th {\n",
              "        text-align: right;\n",
              "    }\n",
              "</style>\n",
              "<table border=\"1\" class=\"dataframe\">\n",
              "  <thead>\n",
              "    <tr style=\"text-align: right;\">\n",
              "      <th></th>\n",
              "      <th>Novel</th>\n",
              "    </tr>\n",
              "  </thead>\n",
              "  <tbody>\n",
              "    <tr>\n",
              "      <th>0</th>\n",
              "      <td>7</td>\n",
              "    </tr>\n",
              "    <tr>\n",
              "      <th>1</th>\n",
              "      <td>3</td>\n",
              "    </tr>\n",
              "    <tr>\n",
              "      <th>2</th>\n",
              "      <td>8</td>\n",
              "    </tr>\n",
              "    <tr>\n",
              "      <th>3</th>\n",
              "      <td>3</td>\n",
              "    </tr>\n",
              "    <tr>\n",
              "      <th>4</th>\n",
              "      <td>4</td>\n",
              "    </tr>\n",
              "    <tr>\n",
              "      <th>...</th>\n",
              "      <td>...</td>\n",
              "    </tr>\n",
              "    <tr>\n",
              "      <th>32508</th>\n",
              "      <td>6</td>\n",
              "    </tr>\n",
              "    <tr>\n",
              "      <th>32509</th>\n",
              "      <td>10</td>\n",
              "    </tr>\n",
              "    <tr>\n",
              "      <th>32510</th>\n",
              "      <td>10</td>\n",
              "    </tr>\n",
              "    <tr>\n",
              "      <th>32511</th>\n",
              "      <td>6</td>\n",
              "    </tr>\n",
              "    <tr>\n",
              "      <th>32512</th>\n",
              "      <td>3</td>\n",
              "    </tr>\n",
              "  </tbody>\n",
              "</table>\n",
              "<p>32513 rows × 1 columns</p>\n",
              "</div>"
            ],
            "text/plain": [
              "       Novel\n",
              "0          7\n",
              "1          3\n",
              "2          8\n",
              "3          3\n",
              "4          4\n",
              "...      ...\n",
              "32508      6\n",
              "32509     10\n",
              "32510     10\n",
              "32511      6\n",
              "32512      3\n",
              "\n",
              "[32513 rows x 1 columns]"
            ]
          },
          "metadata": {
            "tags": []
          },
          "execution_count": 6
        }
      ]
    },
    {
      "cell_type": "code",
      "metadata": {
        "colab": {
          "base_uri": "https://localhost:8080/",
          "height": 204
        },
        "id": "PYTl490Sff71",
        "outputId": "9f8fa33f-f1ac-40e9-9724-a0fc109c8794"
      },
      "source": [
        "df= pd.concat([text_df, novel_df], axis=1)\n",
        "df.head()"
      ],
      "execution_count": 7,
      "outputs": [
        {
          "output_type": "execute_result",
          "data": {
            "text/html": [
              "<div>\n",
              "<style scoped>\n",
              "    .dataframe tbody tr th:only-of-type {\n",
              "        vertical-align: middle;\n",
              "    }\n",
              "\n",
              "    .dataframe tbody tr th {\n",
              "        vertical-align: top;\n",
              "    }\n",
              "\n",
              "    .dataframe thead th {\n",
              "        text-align: right;\n",
              "    }\n",
              "</style>\n",
              "<table border=\"1\" class=\"dataframe\">\n",
              "  <thead>\n",
              "    <tr style=\"text-align: right;\">\n",
              "      <th></th>\n",
              "      <th>Text</th>\n",
              "      <th>Novel</th>\n",
              "    </tr>\n",
              "  </thead>\n",
              "  <tbody>\n",
              "    <tr>\n",
              "      <th>0</th>\n",
              "      <td>satwamuluhqgulamlrmvezuhqvkrpmletwulcitwskuhle...</td>\n",
              "      <td>7</td>\n",
              "    </tr>\n",
              "    <tr>\n",
              "      <th>1</th>\n",
              "      <td>twmkiwpmqvtwleuhsaiwsktwmvlelekramuhqvkruhtwsk...</td>\n",
              "      <td>3</td>\n",
              "    </tr>\n",
              "    <tr>\n",
              "      <th>2</th>\n",
              "      <td>vidfpmskuhvilepmuluhtwtvuhulsovienamqvuhskiwmv...</td>\n",
              "      <td>8</td>\n",
              "    </tr>\n",
              "    <tr>\n",
              "      <th>3</th>\n",
              "      <td>raskleenkrlruhtwulenleengztwqvuhenuhsatvuhsktw...</td>\n",
              "      <td>3</td>\n",
              "    </tr>\n",
              "    <tr>\n",
              "      <th>4</th>\n",
              "      <td>dfenqvuhtwamqvuhqgtwiwtvenuluhqvijletwamulenxe...</td>\n",
              "      <td>4</td>\n",
              "    </tr>\n",
              "  </tbody>\n",
              "</table>\n",
              "</div>"
            ],
            "text/plain": [
              "                                                Text  Novel\n",
              "0  satwamuluhqgulamlrmvezuhqvkrpmletwulcitwskuhle...      7\n",
              "1  twmkiwpmqvtwleuhsaiwsktwmvlelekramuhqvkruhtwsk...      3\n",
              "2  vidfpmskuhvilepmuluhtwtvuhulsovienamqvuhskiwmv...      8\n",
              "3  raskleenkrlruhtwulenleengztwqvuhenuhsatvuhsktw...      3\n",
              "4  dfenqvuhtwamqvuhqgtwiwtvenuluhqvijletwamulenxe...      4"
            ]
          },
          "metadata": {
            "tags": []
          },
          "execution_count": 7
        }
      ]
    },
    {
      "cell_type": "code",
      "metadata": {
        "colab": {
          "base_uri": "https://localhost:8080/"
        },
        "id": "4BI_VgGff5IR",
        "outputId": "bfd18d40-b89c-4949-fd82-f130e5aab176"
      },
      "source": [
        "df.Novel.value_counts()"
      ],
      "execution_count": 8,
      "outputs": [
        {
          "output_type": "execute_result",
          "data": {
            "text/plain": [
              "7     5097\n",
              "6     4226\n",
              "3     4023\n",
              "8     3634\n",
              "1     3459\n",
              "10    3052\n",
              "4     2337\n",
              "5     2283\n",
              "2     1471\n",
              "11    1408\n",
              "9      980\n",
              "0      543\n",
              "Name: Novel, dtype: int64"
            ]
          },
          "metadata": {
            "tags": []
          },
          "execution_count": 8
        }
      ]
    },
    {
      "cell_type": "code",
      "metadata": {
        "id": "J67eOE3jgZZJ"
      },
      "source": [
        "# #maximum number of words to be used. \n",
        "# MAX_NB_letters = 500\n",
        "# # Max number of words in each complaint.\n",
        "# MAX_SEQUENCE_LENGTH = 300\n",
        "# # This is fixed.\n",
        "# EMBEDDING_DIM = 300\n",
        "# tokenizer = Tokenizer(num_words=MAX_NB_letters, lower=True)\n",
        "# tokenizer.fit_on_texts(df['Text'].values)\n",
        "# word_index = tokenizer.word_index\n",
        "# print('Found %s unique tokens.' % len(word_index))\n"
      ],
      "execution_count": 1,
      "outputs": []
    },
    {
      "cell_type": "markdown",
      "metadata": {
        "id": "eKhzkRDC8Q5F"
      },
      "source": [
        "Trial-2"
      ]
    },
    {
      "cell_type": "code",
      "metadata": {
        "id": "OyySK9fjnWMB"
      },
      "source": [
        "import numpy\n",
        "import pandas\n",
        "import matplotlib\n",
        "import IPython.display\n",
        "\n",
        "import sklearn.tree\n",
        "import sklearn.metrics\n",
        "import sklearn.ensemble\n",
        "import sklearn.neural_network\n",
        "import sklearn.model_selection\n",
        "import sklearn.feature_extraction\n",
        "\n",
        "import keras.utils\n",
        "import keras.models\n",
        "import keras.layers\n",
        "import keras.optimizers\n",
        "import keras.preprocessing\n",
        "import keras.preprocessing.text\n"
      ],
      "execution_count": 9,
      "outputs": []
    },
    {
      "cell_type": "code",
      "metadata": {
        "colab": {
          "base_uri": "https://localhost:8080/"
        },
        "id": "yk1T0blZ8gE2",
        "outputId": "f9744be8-a224-460a-a354-3175cfbb3bc5"
      },
      "source": [
        "df.Novel.value_counts()"
      ],
      "execution_count": 10,
      "outputs": [
        {
          "output_type": "execute_result",
          "data": {
            "text/plain": [
              "7     5097\n",
              "6     4226\n",
              "3     4023\n",
              "8     3634\n",
              "1     3459\n",
              "10    3052\n",
              "4     2337\n",
              "5     2283\n",
              "2     1471\n",
              "11    1408\n",
              "9      980\n",
              "0      543\n",
              "Name: Novel, dtype: int64"
            ]
          },
          "metadata": {
            "tags": []
          },
          "execution_count": 10
        }
      ]
    },
    {
      "cell_type": "code",
      "metadata": {
        "id": "7M15kGP78q-Y"
      },
      "source": [
        "data = pd.DataFrame(columns=[ \"rows\", \"min Length\", \"max Length\"])\n",
        "data = data.append({\"data\": \"Train & Val\", \"rows\": len(df.Text), \n",
        "                            \"min Length\": len(min(df.Text, key=len)), \n",
        "                            \"max Length\": len(max(df.Text, key=len))}, ignore_index=True)\n"
      ],
      "execution_count": 11,
      "outputs": []
    },
    {
      "cell_type": "code",
      "metadata": {
        "colab": {
          "base_uri": "https://localhost:8080/",
          "height": 80
        },
        "id": "n2JadNka8v9q",
        "outputId": "c908f32c-133b-4d9b-ecd0-2be8a7ff4bb1"
      },
      "source": [
        "data.head()"
      ],
      "execution_count": 12,
      "outputs": [
        {
          "output_type": "execute_result",
          "data": {
            "text/html": [
              "<div>\n",
              "<style scoped>\n",
              "    .dataframe tbody tr th:only-of-type {\n",
              "        vertical-align: middle;\n",
              "    }\n",
              "\n",
              "    .dataframe tbody tr th {\n",
              "        vertical-align: top;\n",
              "    }\n",
              "\n",
              "    .dataframe thead th {\n",
              "        text-align: right;\n",
              "    }\n",
              "</style>\n",
              "<table border=\"1\" class=\"dataframe\">\n",
              "  <thead>\n",
              "    <tr style=\"text-align: right;\">\n",
              "      <th></th>\n",
              "      <th>rows</th>\n",
              "      <th>min Length</th>\n",
              "      <th>max Length</th>\n",
              "      <th>data</th>\n",
              "    </tr>\n",
              "  </thead>\n",
              "  <tbody>\n",
              "    <tr>\n",
              "      <th>0</th>\n",
              "      <td>32513</td>\n",
              "      <td>168</td>\n",
              "      <td>432</td>\n",
              "      <td>Train &amp; Val</td>\n",
              "    </tr>\n",
              "  </tbody>\n",
              "</table>\n",
              "</div>"
            ],
            "text/plain": [
              "    rows min Length max Length         data\n",
              "0  32513        168        432  Train & Val"
            ]
          },
          "metadata": {
            "tags": []
          },
          "execution_count": 12
        }
      ]
    },
    {
      "cell_type": "code",
      "metadata": {
        "id": "OIyDcZvpDxmS"
      },
      "source": [
        "unique_chars = 26\n",
        "max_len = 435\n",
        "\n",
        "# data preparation\n",
        "tokenizer = keras.preprocessing.text.Tokenizer(char_level=True)\n",
        "tokenizer.fit_on_texts(df['Text'].values)\n",
        "character_sequences = tokenizer.texts_to_sequences(df['Text'].values)\n",
        "sequence_matrix = keras.preprocessing.sequence.pad_sequences(character_sequences)\n",
        "categorical_labels = df['Novel'].values\n",
        "\n",
        "x_train, x_validation, y_train, y_validation = sklearn.model_selection.train_test_split(\n",
        "    sequence_matrix, categorical_labels, test_size=0.20)"
      ],
      "execution_count": 13,
      "outputs": []
    },
    {
      "cell_type": "code",
      "metadata": {
        "colab": {
          "base_uri": "https://localhost:8080/"
        },
        "id": "-RK-3_vxGJ4f",
        "outputId": "3d43c94d-7976-4955-914b-fa17ac8de3b2"
      },
      "source": [
        "sequence_matrix.shape"
      ],
      "execution_count": 68,
      "outputs": [
        {
          "output_type": "execute_result",
          "data": {
            "text/plain": [
              "(32513, 432)"
            ]
          },
          "metadata": {
            "tags": []
          },
          "execution_count": 68
        }
      ]
    },
    {
      "cell_type": "code",
      "metadata": {
        "colab": {
          "base_uri": "https://localhost:8080/"
        },
        "id": "4f0v7zjpGOu5",
        "outputId": "a9b9fd92-6087-49a9-eb0f-95b01a280694"
      },
      "source": [
        "categorical_labels.shape"
      ],
      "execution_count": 69,
      "outputs": [
        {
          "output_type": "execute_result",
          "data": {
            "text/plain": [
              "(32513,)"
            ]
          },
          "metadata": {
            "tags": []
          },
          "execution_count": 69
        }
      ]
    },
    {
      "cell_type": "code",
      "metadata": {
        "id": "I7nG7xurZAHu"
      },
      "source": [
        "embedding_size=60, dropout_1=0.20, filters=64, kernel_size=5,\n",
        "        activation_1 = \"relu\", pool_size=4, lstm_size=50,\n",
        "        dense_size_1=200, dense_size_2=12, activation_2 = \"softmax\",\n",
        "        loss=\"sparse_categorical_crossentropy\", optimizer=\"adam\",\n",
        "        batch_size=200, epochs=100"
      ],
      "execution_count": null,
      "outputs": []
    },
    {
      "cell_type": "code",
      "metadata": {
        "id": "uh7bVOxMFLHA"
      },
      "source": [
        "def cls( ):\n",
        "    \"\"\"\n",
        "    Main function for text classification.\n",
        "    \"\"\"\n",
        "    model = keras.models.Sequential()\n",
        "    model.add(keras.layers.Embedding(unique_chars+1, output_dim=64, input_length=max_len))    \n",
        "    model.add(keras.layers.Dropout(0.2))\n",
        "    model.add(keras.layers.BatchNormalization())\n",
        "    model.add(keras.layers.Conv1D(filters=64, kernel_size=4, activation='relu'))\n",
        "    model.add(keras.layers.MaxPooling1D(pool_size=5))\n",
        "    model.add(keras.layers.GRU(units = 50))\n",
        "    model.add(keras.layers.BatchNormalization())\n",
        "    model.add(keras.layers.Dense(units = 264))\n",
        "    model.add(keras.layers.BatchNormalization())   \n",
        "    model.add(keras.layers.Dense(units = 12))\n",
        "    model.add(keras.layers.Activation('softmax'))   \n",
        "    model.summary()\n",
        "    model.compile(loss='sparse_categorical_crossentropy',optimizer='adam',metrics=[\"accuracy\"])\n",
        "    history=model.fit(x_train, y_train, batch_size=100, epochs=100, validation_split=0.2)\n",
        "    model.save(\"GRU_emb_conv3.model\")\n",
        "\n",
        "    # list all data in history\n",
        "    print(history.history.keys())\n",
        "    # summarize history for accuracy\n",
        "    plt.plot(history.history['accuracy'])\n",
        "    plt.plot(history.history['val_accuracy'])\n",
        "    plt.title('model accuracy')\n",
        "    plt.ylabel('accuracy')\n",
        "    plt.xlabel('epoch')\n",
        "    plt.legend(['train', 'val'], loc='upper left')\n",
        "    plt.show()\n",
        "\n",
        "    # summarize history for loss\n",
        "    plt.plot(history.history['loss'])\n",
        "    plt.plot(history.history['val_loss'])\n",
        "    plt.title('model loss')\n",
        "    plt.ylabel('loss')\n",
        "    plt.xlabel('epoch')\n",
        "    plt.legend(['train', 'val'], loc='upper left')\n",
        "    plt.show()"
      ],
      "execution_count": 16,
      "outputs": []
    },
    {
      "cell_type": "code",
      "metadata": {
        "colab": {
          "base_uri": "https://localhost:8080/",
          "height": 1000
        },
        "id": "oXKvXw47G3Af",
        "outputId": "a0f80898-96b5-4c11-bcb9-7548e67e0d3b"
      },
      "source": [
        "cls()"
      ],
      "execution_count": 17,
      "outputs": [
        {
          "output_type": "stream",
          "text": [
            "Model: \"sequential_1\"\n",
            "_________________________________________________________________\n",
            "Layer (type)                 Output Shape              Param #   \n",
            "=================================================================\n",
            "embedding_1 (Embedding)      (None, 435, 64)           1728      \n",
            "_________________________________________________________________\n",
            "dropout_1 (Dropout)          (None, 435, 64)           0         \n",
            "_________________________________________________________________\n",
            "batch_normalization_3 (Batch (None, 435, 64)           256       \n",
            "_________________________________________________________________\n",
            "conv1d_1 (Conv1D)            (None, 432, 64)           16448     \n",
            "_________________________________________________________________\n",
            "max_pooling1d_1 (MaxPooling1 (None, 86, 64)            0         \n",
            "_________________________________________________________________\n",
            "gru_1 (GRU)                  (None, 50)                17400     \n",
            "_________________________________________________________________\n",
            "batch_normalization_4 (Batch (None, 50)                200       \n",
            "_________________________________________________________________\n",
            "dense_2 (Dense)              (None, 264)               13464     \n",
            "_________________________________________________________________\n",
            "batch_normalization_5 (Batch (None, 264)               1056      \n",
            "_________________________________________________________________\n",
            "dense_3 (Dense)              (None, 12)                3180      \n",
            "_________________________________________________________________\n",
            "activation_1 (Activation)    (None, 12)                0         \n",
            "=================================================================\n",
            "Total params: 53,732\n",
            "Trainable params: 52,976\n",
            "Non-trainable params: 756\n",
            "_________________________________________________________________\n",
            "Epoch 1/100\n",
            "WARNING:tensorflow:Model was constructed with shape (None, 435) for input KerasTensor(type_spec=TensorSpec(shape=(None, 435), dtype=tf.float32, name='embedding_1_input'), name='embedding_1_input', description=\"created by layer 'embedding_1_input'\"), but it was called on an input with incompatible shape (None, 432).\n",
            "WARNING:tensorflow:Model was constructed with shape (None, 435) for input KerasTensor(type_spec=TensorSpec(shape=(None, 435), dtype=tf.float32, name='embedding_1_input'), name='embedding_1_input', description=\"created by layer 'embedding_1_input'\"), but it was called on an input with incompatible shape (None, 432).\n",
            "209/209 [==============================] - ETA: 0s - loss: 2.5014 - accuracy: 0.1631WARNING:tensorflow:Model was constructed with shape (None, 435) for input KerasTensor(type_spec=TensorSpec(shape=(None, 435), dtype=tf.float32, name='embedding_1_input'), name='embedding_1_input', description=\"created by layer 'embedding_1_input'\"), but it was called on an input with incompatible shape (None, 432).\n",
            "209/209 [==============================] - 49s 227ms/step - loss: 2.5002 - accuracy: 0.1634 - val_loss: 2.5042 - val_accuracy: 0.1703\n",
            "Epoch 2/100\n",
            "209/209 [==============================] - 47s 227ms/step - loss: 1.5930 - accuracy: 0.4604 - val_loss: 5.4729 - val_accuracy: 0.1449\n",
            "Epoch 3/100\n",
            "209/209 [==============================] - 48s 229ms/step - loss: 1.2644 - accuracy: 0.5614 - val_loss: 1.8851 - val_accuracy: 0.4564\n",
            "Epoch 4/100\n",
            "209/209 [==============================] - 48s 228ms/step - loss: 1.1125 - accuracy: 0.6162 - val_loss: 1.6709 - val_accuracy: 0.5213\n",
            "Epoch 5/100\n",
            "209/209 [==============================] - 48s 228ms/step - loss: 1.0300 - accuracy: 0.6455 - val_loss: 1.9064 - val_accuracy: 0.4948\n",
            "Epoch 6/100\n",
            "209/209 [==============================] - 48s 228ms/step - loss: 0.9426 - accuracy: 0.6747 - val_loss: 2.1987 - val_accuracy: 0.4735\n",
            "Epoch 7/100\n",
            "209/209 [==============================] - 47s 227ms/step - loss: 0.9305 - accuracy: 0.6775 - val_loss: 1.0663 - val_accuracy: 0.6384\n",
            "Epoch 8/100\n",
            "209/209 [==============================] - 48s 229ms/step - loss: 0.8820 - accuracy: 0.6926 - val_loss: 1.9701 - val_accuracy: 0.4937\n",
            "Epoch 9/100\n",
            "209/209 [==============================] - 48s 229ms/step - loss: 0.8562 - accuracy: 0.7037 - val_loss: 1.1191 - val_accuracy: 0.6253\n",
            "Epoch 10/100\n",
            "209/209 [==============================] - 48s 228ms/step - loss: 0.8210 - accuracy: 0.7180 - val_loss: 1.5639 - val_accuracy: 0.5794\n",
            "Epoch 11/100\n",
            "209/209 [==============================] - 48s 229ms/step - loss: 0.7902 - accuracy: 0.7256 - val_loss: 1.3963 - val_accuracy: 0.5830\n",
            "Epoch 12/100\n",
            "209/209 [==============================] - 48s 228ms/step - loss: 0.7903 - accuracy: 0.7244 - val_loss: 1.2168 - val_accuracy: 0.6417\n",
            "Epoch 13/100\n",
            "209/209 [==============================] - 47s 227ms/step - loss: 0.7667 - accuracy: 0.7339 - val_loss: 0.9887 - val_accuracy: 0.6955\n",
            "Epoch 14/100\n",
            "209/209 [==============================] - 48s 229ms/step - loss: 0.7238 - accuracy: 0.7488 - val_loss: 1.1355 - val_accuracy: 0.6478\n",
            "Epoch 15/100\n",
            "209/209 [==============================] - 47s 227ms/step - loss: 0.7270 - accuracy: 0.7492 - val_loss: 1.4498 - val_accuracy: 0.5796\n",
            "Epoch 16/100\n",
            "209/209 [==============================] - 48s 228ms/step - loss: 0.7389 - accuracy: 0.7447 - val_loss: 0.9025 - val_accuracy: 0.7199\n",
            "Epoch 17/100\n",
            "209/209 [==============================] - 48s 228ms/step - loss: 0.6922 - accuracy: 0.7586 - val_loss: 1.1896 - val_accuracy: 0.6530\n",
            "Epoch 18/100\n",
            "209/209 [==============================] - 48s 229ms/step - loss: 0.6590 - accuracy: 0.7730 - val_loss: 1.3590 - val_accuracy: 0.6503\n",
            "Epoch 19/100\n",
            "209/209 [==============================] - 48s 228ms/step - loss: 0.6995 - accuracy: 0.7562 - val_loss: 1.3000 - val_accuracy: 0.6082\n",
            "Epoch 20/100\n",
            "209/209 [==============================] - 47s 227ms/step - loss: 0.6730 - accuracy: 0.7672 - val_loss: 0.9372 - val_accuracy: 0.7124\n",
            "Epoch 21/100\n",
            "209/209 [==============================] - 48s 228ms/step - loss: 0.6635 - accuracy: 0.7730 - val_loss: 1.2415 - val_accuracy: 0.6328\n",
            "Epoch 22/100\n",
            "209/209 [==============================] - 48s 228ms/step - loss: 0.6389 - accuracy: 0.7766 - val_loss: 1.1871 - val_accuracy: 0.6463\n",
            "Epoch 23/100\n",
            "209/209 [==============================] - 48s 229ms/step - loss: 0.6117 - accuracy: 0.7911 - val_loss: 0.9474 - val_accuracy: 0.7092\n",
            "Epoch 24/100\n",
            "209/209 [==============================] - 48s 229ms/step - loss: 0.6041 - accuracy: 0.7933 - val_loss: 0.9699 - val_accuracy: 0.7138\n",
            "Epoch 25/100\n",
            "209/209 [==============================] - 48s 228ms/step - loss: 0.6109 - accuracy: 0.7873 - val_loss: 1.3299 - val_accuracy: 0.6515\n",
            "Epoch 26/100\n",
            "209/209 [==============================] - 48s 229ms/step - loss: 0.6159 - accuracy: 0.7859 - val_loss: 0.8889 - val_accuracy: 0.7197\n",
            "Epoch 27/100\n",
            "209/209 [==============================] - 47s 227ms/step - loss: 0.5738 - accuracy: 0.8008 - val_loss: 1.4158 - val_accuracy: 0.6401\n",
            "Epoch 28/100\n",
            "209/209 [==============================] - 48s 228ms/step - loss: 0.5891 - accuracy: 0.7947 - val_loss: 0.9994 - val_accuracy: 0.6876\n",
            "Epoch 29/100\n",
            "209/209 [==============================] - 48s 228ms/step - loss: 0.5914 - accuracy: 0.7970 - val_loss: 0.9890 - val_accuracy: 0.7020\n",
            "Epoch 30/100\n",
            "209/209 [==============================] - 47s 227ms/step - loss: 0.5473 - accuracy: 0.8115 - val_loss: 0.9026 - val_accuracy: 0.7339\n",
            "Epoch 31/100\n",
            "209/209 [==============================] - 48s 228ms/step - loss: 0.5558 - accuracy: 0.8082 - val_loss: 1.4025 - val_accuracy: 0.6449\n",
            "Epoch 32/100\n",
            "209/209 [==============================] - 47s 227ms/step - loss: 0.5501 - accuracy: 0.8065 - val_loss: 1.0893 - val_accuracy: 0.6803\n",
            "Epoch 33/100\n",
            "209/209 [==============================] - 48s 228ms/step - loss: 0.5776 - accuracy: 0.8025 - val_loss: 2.2532 - val_accuracy: 0.5160\n",
            "Epoch 34/100\n",
            "209/209 [==============================] - 48s 228ms/step - loss: 0.5380 - accuracy: 0.8151 - val_loss: 0.9750 - val_accuracy: 0.7213\n",
            "Epoch 35/100\n",
            "209/209 [==============================] - 47s 227ms/step - loss: 0.5195 - accuracy: 0.8251 - val_loss: 1.0077 - val_accuracy: 0.7030\n",
            "Epoch 36/100\n",
            "209/209 [==============================] - 48s 228ms/step - loss: 0.5434 - accuracy: 0.8084 - val_loss: 0.9316 - val_accuracy: 0.7093\n",
            "Epoch 37/100\n",
            "209/209 [==============================] - 48s 227ms/step - loss: 0.5116 - accuracy: 0.8221 - val_loss: 0.9353 - val_accuracy: 0.7253\n",
            "Epoch 38/100\n",
            "209/209 [==============================] - 48s 228ms/step - loss: 0.5096 - accuracy: 0.8248 - val_loss: 0.9394 - val_accuracy: 0.7193\n",
            "Epoch 39/100\n",
            "209/209 [==============================] - 48s 228ms/step - loss: 0.5379 - accuracy: 0.8100 - val_loss: 0.9670 - val_accuracy: 0.7291\n",
            "Epoch 40/100\n",
            "209/209 [==============================] - 48s 228ms/step - loss: 0.5315 - accuracy: 0.8137 - val_loss: 0.9259 - val_accuracy: 0.7234\n",
            "Epoch 41/100\n",
            "209/209 [==============================] - 48s 228ms/step - loss: 0.5148 - accuracy: 0.8197 - val_loss: 0.8810 - val_accuracy: 0.7374\n",
            "Epoch 42/100\n",
            "209/209 [==============================] - 48s 229ms/step - loss: 0.5052 - accuracy: 0.8232 - val_loss: 0.8944 - val_accuracy: 0.7426\n",
            "Epoch 43/100\n",
            "209/209 [==============================] - 48s 229ms/step - loss: 0.4778 - accuracy: 0.8339 - val_loss: 1.2064 - val_accuracy: 0.6895\n",
            "Epoch 44/100\n",
            "209/209 [==============================] - 48s 229ms/step - loss: 0.4899 - accuracy: 0.8271 - val_loss: 1.1647 - val_accuracy: 0.6828\n",
            "Epoch 45/100\n",
            "209/209 [==============================] - 48s 228ms/step - loss: 0.4929 - accuracy: 0.8312 - val_loss: 1.0585 - val_accuracy: 0.7257\n",
            "Epoch 46/100\n",
            "209/209 [==============================] - 48s 229ms/step - loss: 0.4690 - accuracy: 0.8382 - val_loss: 1.0115 - val_accuracy: 0.7172\n",
            "Epoch 47/100\n",
            "209/209 [==============================] - 48s 228ms/step - loss: 0.5011 - accuracy: 0.8239 - val_loss: 1.2877 - val_accuracy: 0.6742\n",
            "Epoch 48/100\n",
            "209/209 [==============================] - 48s 229ms/step - loss: 0.4929 - accuracy: 0.8277 - val_loss: 1.0087 - val_accuracy: 0.7172\n",
            "Epoch 49/100\n",
            "209/209 [==============================] - 48s 229ms/step - loss: 0.4663 - accuracy: 0.8354 - val_loss: 1.4345 - val_accuracy: 0.6434\n",
            "Epoch 50/100\n",
            "209/209 [==============================] - 48s 228ms/step - loss: 0.4690 - accuracy: 0.8350 - val_loss: 0.9663 - val_accuracy: 0.7339\n",
            "Epoch 51/100\n",
            "209/209 [==============================] - 48s 228ms/step - loss: 0.4536 - accuracy: 0.8433 - val_loss: 0.9997 - val_accuracy: 0.7180\n",
            "Epoch 52/100\n",
            "209/209 [==============================] - 48s 229ms/step - loss: 0.4591 - accuracy: 0.8392 - val_loss: 0.9733 - val_accuracy: 0.7126\n",
            "Epoch 53/100\n",
            "209/209 [==============================] - 48s 228ms/step - loss: 0.4593 - accuracy: 0.8439 - val_loss: 1.4486 - val_accuracy: 0.6338\n",
            "Epoch 54/100\n",
            "209/209 [==============================] - 48s 229ms/step - loss: 0.4867 - accuracy: 0.8308 - val_loss: 0.8714 - val_accuracy: 0.7424\n",
            "Epoch 55/100\n",
            "209/209 [==============================] - 48s 229ms/step - loss: 0.4654 - accuracy: 0.8355 - val_loss: 0.9911 - val_accuracy: 0.7309\n",
            "Epoch 56/100\n",
            "209/209 [==============================] - 47s 227ms/step - loss: 0.4917 - accuracy: 0.8303 - val_loss: 1.0816 - val_accuracy: 0.6928\n",
            "Epoch 57/100\n",
            "209/209 [==============================] - 48s 228ms/step - loss: 0.4447 - accuracy: 0.8472 - val_loss: 0.8150 - val_accuracy: 0.7543\n",
            "Epoch 58/100\n",
            "209/209 [==============================] - 48s 229ms/step - loss: 0.4335 - accuracy: 0.8438 - val_loss: 1.0303 - val_accuracy: 0.7234\n",
            "Epoch 59/100\n",
            "209/209 [==============================] - 48s 228ms/step - loss: 0.4273 - accuracy: 0.8530 - val_loss: 0.9857 - val_accuracy: 0.7314\n",
            "Epoch 60/100\n",
            "209/209 [==============================] - 48s 228ms/step - loss: 0.4280 - accuracy: 0.8493 - val_loss: 1.0226 - val_accuracy: 0.7132\n",
            "Epoch 61/100\n",
            "209/209 [==============================] - 48s 230ms/step - loss: 0.4361 - accuracy: 0.8468 - val_loss: 0.8124 - val_accuracy: 0.7449\n",
            "Epoch 62/100\n",
            "209/209 [==============================] - 48s 229ms/step - loss: 0.4301 - accuracy: 0.8525 - val_loss: 1.5352 - val_accuracy: 0.6355\n",
            "Epoch 63/100\n",
            "209/209 [==============================] - 48s 231ms/step - loss: 0.4264 - accuracy: 0.8493 - val_loss: 0.8557 - val_accuracy: 0.7439\n",
            "Epoch 64/100\n",
            "209/209 [==============================] - 48s 229ms/step - loss: 0.4153 - accuracy: 0.8536 - val_loss: 0.9181 - val_accuracy: 0.7391\n",
            "Epoch 65/100\n",
            "209/209 [==============================] - 48s 230ms/step - loss: 0.4195 - accuracy: 0.8514 - val_loss: 0.9768 - val_accuracy: 0.7347\n",
            "Epoch 66/100\n",
            "209/209 [==============================] - 48s 230ms/step - loss: 0.4114 - accuracy: 0.8561 - val_loss: 0.9829 - val_accuracy: 0.7265\n",
            "Epoch 67/100\n",
            "209/209 [==============================] - 48s 229ms/step - loss: 0.4234 - accuracy: 0.8501 - val_loss: 0.8968 - val_accuracy: 0.7459\n",
            "Epoch 68/100\n",
            "209/209 [==============================] - 48s 230ms/step - loss: 0.4211 - accuracy: 0.8518 - val_loss: 1.1287 - val_accuracy: 0.7168\n",
            "Epoch 69/100\n",
            "209/209 [==============================] - 48s 231ms/step - loss: 0.4077 - accuracy: 0.8596 - val_loss: 1.3420 - val_accuracy: 0.6615\n",
            "Epoch 70/100\n",
            "209/209 [==============================] - 48s 230ms/step - loss: 0.4024 - accuracy: 0.8615 - val_loss: 1.1548 - val_accuracy: 0.6874\n",
            "Epoch 71/100\n",
            "209/209 [==============================] - 48s 228ms/step - loss: 0.4510 - accuracy: 0.8398 - val_loss: 0.9237 - val_accuracy: 0.7447\n",
            "Epoch 72/100\n",
            "209/209 [==============================] - 48s 229ms/step - loss: 0.4121 - accuracy: 0.8561 - val_loss: 1.0279 - val_accuracy: 0.7197\n",
            "Epoch 73/100\n",
            "209/209 [==============================] - 48s 229ms/step - loss: 0.4006 - accuracy: 0.8578 - val_loss: 1.1577 - val_accuracy: 0.7174\n",
            "Epoch 74/100\n",
            "209/209 [==============================] - 48s 229ms/step - loss: 0.3810 - accuracy: 0.8659 - val_loss: 1.6037 - val_accuracy: 0.6467\n",
            "Epoch 75/100\n",
            "209/209 [==============================] - 48s 230ms/step - loss: 0.3987 - accuracy: 0.8569 - val_loss: 1.1192 - val_accuracy: 0.7232\n",
            "Epoch 76/100\n",
            "209/209 [==============================] - 48s 228ms/step - loss: 0.3891 - accuracy: 0.8612 - val_loss: 1.1126 - val_accuracy: 0.7253\n",
            "Epoch 77/100\n",
            "209/209 [==============================] - 48s 228ms/step - loss: 0.3854 - accuracy: 0.8652 - val_loss: 1.5511 - val_accuracy: 0.6840\n",
            "Epoch 78/100\n",
            "209/209 [==============================] - 48s 229ms/step - loss: 0.3880 - accuracy: 0.8635 - val_loss: 0.9913 - val_accuracy: 0.7147\n",
            "Epoch 79/100\n",
            "209/209 [==============================] - 48s 229ms/step - loss: 0.3784 - accuracy: 0.8716 - val_loss: 1.3013 - val_accuracy: 0.6880\n",
            "Epoch 80/100\n",
            "209/209 [==============================] - 48s 229ms/step - loss: 0.3763 - accuracy: 0.8665 - val_loss: 1.1157 - val_accuracy: 0.7113\n",
            "Epoch 81/100\n",
            "209/209 [==============================] - 48s 230ms/step - loss: 0.3687 - accuracy: 0.8716 - val_loss: 1.2244 - val_accuracy: 0.6997\n",
            "Epoch 82/100\n",
            "209/209 [==============================] - 48s 231ms/step - loss: 0.4169 - accuracy: 0.8520 - val_loss: 1.0240 - val_accuracy: 0.7286\n",
            "Epoch 83/100\n",
            "209/209 [==============================] - 48s 231ms/step - loss: 0.3592 - accuracy: 0.8740 - val_loss: 1.0654 - val_accuracy: 0.7253\n",
            "Epoch 84/100\n",
            "209/209 [==============================] - 48s 230ms/step - loss: 0.4051 - accuracy: 0.8531 - val_loss: 0.8602 - val_accuracy: 0.7626\n",
            "Epoch 85/100\n",
            "209/209 [==============================] - 48s 230ms/step - loss: 0.3816 - accuracy: 0.8655 - val_loss: 0.9444 - val_accuracy: 0.7341\n",
            "Epoch 86/100\n",
            "209/209 [==============================] - 48s 231ms/step - loss: 0.3735 - accuracy: 0.8676 - val_loss: 0.9361 - val_accuracy: 0.7399\n",
            "Epoch 87/100\n",
            "209/209 [==============================] - 48s 231ms/step - loss: 0.3563 - accuracy: 0.8735 - val_loss: 1.0786 - val_accuracy: 0.7153\n",
            "Epoch 88/100\n",
            "209/209 [==============================] - 48s 230ms/step - loss: 0.3606 - accuracy: 0.8740 - val_loss: 1.0352 - val_accuracy: 0.7334\n",
            "Epoch 89/100\n",
            "209/209 [==============================] - 48s 231ms/step - loss: 0.3596 - accuracy: 0.8743 - val_loss: 1.1651 - val_accuracy: 0.7332\n",
            "Epoch 90/100\n",
            "209/209 [==============================] - 48s 229ms/step - loss: 0.3601 - accuracy: 0.8718 - val_loss: 1.3561 - val_accuracy: 0.6817\n",
            "Epoch 91/100\n",
            "209/209 [==============================] - 48s 231ms/step - loss: 0.3559 - accuracy: 0.8756 - val_loss: 1.0794 - val_accuracy: 0.7280\n",
            "Epoch 92/100\n",
            "209/209 [==============================] - 48s 230ms/step - loss: 0.3618 - accuracy: 0.8718 - val_loss: 0.9929 - val_accuracy: 0.7341\n",
            "Epoch 93/100\n",
            "209/209 [==============================] - 48s 229ms/step - loss: 0.3956 - accuracy: 0.8580 - val_loss: 0.9468 - val_accuracy: 0.7413\n",
            "Epoch 94/100\n",
            "209/209 [==============================] - 48s 229ms/step - loss: 0.3560 - accuracy: 0.8721 - val_loss: 1.1840 - val_accuracy: 0.7126\n",
            "Epoch 95/100\n",
            "209/209 [==============================] - 48s 229ms/step - loss: 0.3604 - accuracy: 0.8733 - val_loss: 1.1274 - val_accuracy: 0.7086\n",
            "Epoch 96/100\n",
            "209/209 [==============================] - 48s 229ms/step - loss: 0.3575 - accuracy: 0.8746 - val_loss: 0.9400 - val_accuracy: 0.7428\n",
            "Epoch 97/100\n",
            "209/209 [==============================] - 48s 230ms/step - loss: 0.3455 - accuracy: 0.8765 - val_loss: 1.2846 - val_accuracy: 0.6872\n",
            "Epoch 98/100\n",
            "209/209 [==============================] - 48s 231ms/step - loss: 0.3396 - accuracy: 0.8767 - val_loss: 1.0081 - val_accuracy: 0.7399\n",
            "Epoch 99/100\n",
            "209/209 [==============================] - 48s 231ms/step - loss: 0.3600 - accuracy: 0.8718 - val_loss: 0.8880 - val_accuracy: 0.7537\n",
            "Epoch 100/100\n",
            "209/209 [==============================] - 48s 231ms/step - loss: 0.3558 - accuracy: 0.8738 - val_loss: 0.9686 - val_accuracy: 0.7374\n"
          ],
          "name": "stdout"
        },
        {
          "output_type": "stream",
          "text": [
            "WARNING:absl:Found untraced functions such as gru_cell_1_layer_call_and_return_conditional_losses, gru_cell_1_layer_call_fn, gru_cell_1_layer_call_fn, gru_cell_1_layer_call_and_return_conditional_losses, gru_cell_1_layer_call_and_return_conditional_losses while saving (showing 5 of 5). These functions will not be directly callable after loading.\n",
            "WARNING:absl:Found untraced functions such as gru_cell_1_layer_call_and_return_conditional_losses, gru_cell_1_layer_call_fn, gru_cell_1_layer_call_fn, gru_cell_1_layer_call_and_return_conditional_losses, gru_cell_1_layer_call_and_return_conditional_losses while saving (showing 5 of 5). These functions will not be directly callable after loading.\n"
          ],
          "name": "stderr"
        },
        {
          "output_type": "stream",
          "text": [
            "INFO:tensorflow:Assets written to: GRU_emb_conv3.model/assets\n"
          ],
          "name": "stdout"
        },
        {
          "output_type": "stream",
          "text": [
            "INFO:tensorflow:Assets written to: GRU_emb_conv3.model/assets\n"
          ],
          "name": "stderr"
        },
        {
          "output_type": "stream",
          "text": [
            "dict_keys(['loss', 'accuracy', 'val_loss', 'val_accuracy'])\n"
          ],
          "name": "stdout"
        },
        {
          "output_type": "display_data",
          "data": {
            "image/png": "[encoded data removed]",
            "text/plain": [
              "<Figure size 432x288 with 1 Axes>"
            ]
          },
          "metadata": {
            "tags": [],
            "needs_background": "light"
          }
        },
        {
          "output_type": "display_data",
          "data": {
            "image/png": "[encoded data removed]",
            "text/plain": [
              "<Figure size 432x288 with 1 Axes>"
            ]
          },
          "metadata": {
            "tags": [],
            "needs_background": "light"
          }
        }
      ]
    },
    {
      "cell_type": "code",
      "metadata": {
        "colab": {
          "base_uri": "https://localhost:8080/"
        },
        "id": "2WNc7kPqocuh",
        "outputId": "5aecdeb1-ff9b-48c6-af27-c0a3f43af8d1"
      },
      "source": [
        "model.save(\"/content/drive/MyDrive/Tensorflow_datasets_ryan/GRU_emb_conv3.model\")"
      ],
      "execution_count": 20,
      "outputs": [
        {
          "output_type": "stream",
          "text": [
            "WARNING:absl:Found untraced functions such as gru_cell_2_layer_call_and_return_conditional_losses, gru_cell_2_layer_call_fn, gru_cell_2_layer_call_fn, gru_cell_2_layer_call_and_return_conditional_losses, gru_cell_2_layer_call_and_return_conditional_losses while saving (showing 5 of 5). These functions will not be directly callable after loading.\n",
            "WARNING:absl:Found untraced functions such as gru_cell_2_layer_call_and_return_conditional_losses, gru_cell_2_layer_call_fn, gru_cell_2_layer_call_fn, gru_cell_2_layer_call_and_return_conditional_losses, gru_cell_2_layer_call_and_return_conditional_losses while saving (showing 5 of 5). These functions will not be directly callable after loading.\n"
          ],
          "name": "stderr"
        },
        {
          "output_type": "stream",
          "text": [
            "INFO:tensorflow:Assets written to: /content/drive/MyDrive/Tensorflow_datasets_ryan/GRU_emb_conv3.model/assets\n"
          ],
          "name": "stdout"
        },
        {
          "output_type": "stream",
          "text": [
            "INFO:tensorflow:Assets written to: /content/drive/MyDrive/Tensorflow_datasets_ryan/GRU_emb_conv3.model/assets\n"
          ],
          "name": "stderr"
        }
      ]
    },
    {
      "cell_type": "code",
      "metadata": {
        "colab": {
          "base_uri": "https://localhost:8080/"
        },
        "id": "wTvCnGRIG44l",
        "outputId": "2ea5131c-e434-472e-c419-422f8e8f8e5c"
      },
      "source": [
        "model = keras.models.load_model(\"/content/drive/MyDrive/Tensorflow_datasets_ryan/GRU_emb_conv3.model\")\n",
        "loss, accuracy = model.evaluate(x_validation, y_validation)\n",
        "print(\"Validation Results:\\nLoss = {:0.2f}\\nAccuracy = {:0.2f}\".format(loss, accuracy))\n"
      ],
      "execution_count": 19,
      "outputs": [
        {
          "output_type": "stream",
          "text": [
            "WARNING:tensorflow:Model was constructed with shape (None, 435) for input KerasTensor(type_spec=TensorSpec(shape=(None, 435), dtype=tf.float32, name='embedding_1_input'), name='embedding_1_input', description=\"created by layer 'embedding_1_input'\"), but it was called on an input with incompatible shape (None, 432).\n"
          ],
          "name": "stdout"
        },
        {
          "output_type": "stream",
          "text": [
            "WARNING:tensorflow:Model was constructed with shape (None, 435) for input KerasTensor(type_spec=TensorSpec(shape=(None, 435), dtype=tf.float32, name='embedding_1_input'), name='embedding_1_input', description=\"created by layer 'embedding_1_input'\"), but it was called on an input with incompatible shape (None, 432).\n"
          ],
          "name": "stderr"
        },
        {
          "output_type": "stream",
          "text": [
            "204/204 [==============================] - 4s 18ms/step - loss: 0.9886 - accuracy: 0.7380\n",
            "Validation Results:\n",
            "Loss = 0.99\n",
            "Accuracy = 0.74\n"
          ],
          "name": "stdout"
        }
      ]
    },
    {
      "cell_type": "code",
      "metadata": {
        "id": "xtNjhNmwKn1u"
      },
      "source": [
        "\n",
        "# # list all data in history\n",
        "# print(history.history.keys())\n",
        "# # summarize history for accuracy\n",
        "# plt.plot(history.history['acc'])\n",
        "# plt.plot(history.history['val_acc'])\n",
        "# plt.title('model accuracy')\n",
        "# plt.ylabel('accuracy')\n",
        "# plt.xlabel('epoch')\n",
        "# plt.legend(['train', 'test'], loc='upper left')\n",
        "# plt.show()\n",
        "# # summarize history for loss\n",
        "# plt.plot(history.history['loss'])\n",
        "# plt.plot(history.history['val_loss'])\n",
        "# plt.title('model loss')\n",
        "# plt.ylabel('loss')\n",
        "# plt.xlabel('epoch')\n",
        "# plt.legend(['train', 'test'], loc='upper left')\n",
        "# plt.show()"
      ],
      "execution_count": 95,
      "outputs": []
    },
    {
      "cell_type": "code",
      "metadata": {
        "id": "ZMZaK6BY8Qnu"
      },
      "source": [
        "# character_sequences = tokenizer.texts_to_sequences(text_test)\n",
        "# sequence_matrix = keras.preprocessing.sequence.pad_sequences(character_sequences, maxlen=MAX_STRING_LENGTH)\n",
        "# prediction = model.predict(sequence_matrix)\n",
        "# f = open(\"ytest.txt\", \"w\")\n",
        "# for i in range(len(text_test)):\n",
        "#     f.write(str(numpy.argmax(prediction[i])) + \"\\n\")\n",
        "# f.close()\n",
        "# print(\"Predicted labels stored.\")"
      ],
      "execution_count": null,
      "outputs": []
    },
    {
      "cell_type": "code",
      "metadata": {
        "id": "u8SRxE_X-qD5"
      },
      "source": [
        ""
      ],
      "execution_count": null,
      "outputs": []
    },
    {
      "cell_type": "code",
      "metadata": {
        "id": "d5V158jO-p8N"
      },
      "source": [
        ""
      ],
      "execution_count": null,
      "outputs": []
    },
    {
      "cell_type": "code",
      "metadata": {
        "id": "bHPXCbQ6-pv3"
      },
      "source": [
        ""
      ],
      "execution_count": null,
      "outputs": []
    },
    {
      "cell_type": "markdown",
      "metadata": {
        "id": "k0FxiNoJ-rQv"
      },
      "source": [
        "KTrain Bert"
      ]
    },
    {
      "cell_type": "code",
      "metadata": {
        "colab": {
          "base_uri": "https://localhost:8080/"
        },
        "id": "tC03BEjc-tMc",
        "outputId": "0f9f55a9-e9a6-4159-88a8-0fa6e965e77a"
      },
      "source": [
        "!pip3 install ktrain"
      ],
      "execution_count": 2,
      "outputs": [
        {
          "output_type": "stream",
          "text": [
            "Requirement already satisfied: ktrain in /usr/local/lib/python3.7/dist-packages (0.26.3)\n",
            "Requirement already satisfied: matplotlib>=3.0.0 in /usr/local/lib/python3.7/dist-packages (from ktrain) (3.2.2)\n",
            "Requirement already satisfied: networkx>=2.3 in /usr/local/lib/python3.7/dist-packages (from ktrain) (2.5.1)\n",
            "Requirement already satisfied: cchardet in /usr/local/lib/python3.7/dist-packages (from ktrain) (2.1.7)\n",
            "Requirement already satisfied: keras-bert>=0.86.0 in /usr/local/lib/python3.7/dist-packages (from ktrain) (0.86.0)\n",
            "Requirement already satisfied: scikit-learn==0.23.2 in /usr/local/lib/python3.7/dist-packages (from ktrain) (0.23.2)\n",
            "Requirement already satisfied: whoosh in /usr/local/lib/python3.7/dist-packages (from ktrain) (2.7.4)\n",
            "Requirement already satisfied: pandas>=1.0.1 in /usr/local/lib/python3.7/dist-packages (from ktrain) (1.1.5)\n",
            "Requirement already satisfied: requests in /usr/local/lib/python3.7/dist-packages (from ktrain) (2.23.0)\n",
            "Requirement already satisfied: jieba in /usr/local/lib/python3.7/dist-packages (from ktrain) (0.42.1)\n",
            "Requirement already satisfied: syntok in /usr/local/lib/python3.7/dist-packages (from ktrain) (1.3.1)\n",
            "Requirement already satisfied: transformers<=4.3.3,>=4.0.0 in /usr/local/lib/python3.7/dist-packages (from ktrain) (4.3.3)\n",
            "Requirement already satisfied: langdetect in /usr/local/lib/python3.7/dist-packages (from ktrain) (1.0.9)\n",
            "Requirement already satisfied: fastprogress>=0.1.21 in /usr/local/lib/python3.7/dist-packages (from ktrain) (1.0.0)\n",
            "Requirement already satisfied: joblib in /usr/local/lib/python3.7/dist-packages (from ktrain) (1.0.1)\n",
            "Requirement already satisfied: sentencepiece in /usr/local/lib/python3.7/dist-packages (from ktrain) (0.1.95)\n",
            "Requirement already satisfied: seqeval==0.0.19 in /usr/local/lib/python3.7/dist-packages (from ktrain) (0.0.19)\n",
            "Requirement already satisfied: ipython in /usr/local/lib/python3.7/dist-packages (from ktrain) (5.5.0)\n",
            "Requirement already satisfied: packaging in /usr/local/lib/python3.7/dist-packages (from ktrain) (20.9)\n",
            "Requirement already satisfied: numpy>=1.11 in /usr/local/lib/python3.7/dist-packages (from matplotlib>=3.0.0->ktrain) (1.19.5)\n",
            "Requirement already satisfied: kiwisolver>=1.0.1 in /usr/local/lib/python3.7/dist-packages (from matplotlib>=3.0.0->ktrain) (1.3.1)\n",
            "Requirement already satisfied: pyparsing!=2.0.4,!=2.1.2,!=2.1.6,>=2.0.1 in /usr/local/lib/python3.7/dist-packages (from matplotlib>=3.0.0->ktrain) (2.4.7)\n",
            "Requirement already satisfied: cycler>=0.10 in /usr/local/lib/python3.7/dist-packages (from matplotlib>=3.0.0->ktrain) (0.10.0)\n",
            "Requirement already satisfied: python-dateutil>=2.1 in /usr/local/lib/python3.7/dist-packages (from matplotlib>=3.0.0->ktrain) (2.8.1)\n",
            "Requirement already satisfied: decorator<5,>=4.3 in /usr/local/lib/python3.7/dist-packages (from networkx>=2.3->ktrain) (4.4.2)\n",
            "Requirement already satisfied: Keras>=2.4.3 in /usr/local/lib/python3.7/dist-packages (from keras-bert>=0.86.0->ktrain) (2.4.3)\n",
            "Requirement already satisfied: keras-transformer>=0.38.0 in /usr/local/lib/python3.7/dist-packages (from keras-bert>=0.86.0->ktrain) (0.38.0)\n",
            "Requirement already satisfied: threadpoolctl>=2.0.0 in /usr/local/lib/python3.7/dist-packages (from scikit-learn==0.23.2->ktrain) (2.1.0)\n",
            "Requirement already satisfied: scipy>=0.19.1 in /usr/local/lib/python3.7/dist-packages (from scikit-learn==0.23.2->ktrain) (1.4.1)\n",
            "Requirement already satisfied: pytz>=2017.2 in /usr/local/lib/python3.7/dist-packages (from pandas>=1.0.1->ktrain) (2018.9)\n",
            "Requirement already satisfied: idna<3,>=2.5 in /usr/local/lib/python3.7/dist-packages (from requests->ktrain) (2.10)\n",
            "Requirement already satisfied: chardet<4,>=3.0.2 in /usr/local/lib/python3.7/dist-packages (from requests->ktrain) (3.0.4)\n",
            "Requirement already satisfied: certifi>=2017.4.17 in /usr/local/lib/python3.7/dist-packages (from requests->ktrain) (2020.12.5)\n",
            "Requirement already satisfied: urllib3!=1.25.0,!=1.25.1,<1.26,>=1.21.1 in /usr/local/lib/python3.7/dist-packages (from requests->ktrain) (1.24.3)\n",
            "Requirement already satisfied: regex in /usr/local/lib/python3.7/dist-packages (from syntok->ktrain) (2019.12.20)\n",
            "Requirement already satisfied: tokenizers<0.11,>=0.10.1 in /usr/local/lib/python3.7/dist-packages (from transformers<=4.3.3,>=4.0.0->ktrain) (0.10.2)\n",
            "Requirement already satisfied: importlib-metadata; python_version < \"3.8\" in /usr/local/lib/python3.7/dist-packages (from transformers<=4.3.3,>=4.0.0->ktrain) (4.0.1)\n",
            "Requirement already satisfied: tqdm>=4.27 in /usr/local/lib/python3.7/dist-packages (from transformers<=4.3.3,>=4.0.0->ktrain) (4.41.1)\n",
            "Requirement already satisfied: filelock in /usr/local/lib/python3.7/dist-packages (from transformers<=4.3.3,>=4.0.0->ktrain) (3.0.12)\n",
            "Requirement already satisfied: sacremoses in /usr/local/lib/python3.7/dist-packages (from transformers<=4.3.3,>=4.0.0->ktrain) (0.0.45)\n",
            "Requirement already satisfied: six in /usr/local/lib/python3.7/dist-packages (from langdetect->ktrain) (1.15.0)\n",
            "Requirement already satisfied: setuptools>=18.5 in /usr/local/lib/python3.7/dist-packages (from ipython->ktrain) (56.1.0)\n",
            "Requirement already satisfied: pickleshare in /usr/local/lib/python3.7/dist-packages (from ipython->ktrain) (0.7.5)\n",
            "Requirement already satisfied: pygments in /usr/local/lib/python3.7/dist-packages (from ipython->ktrain) (2.6.1)\n",
            "Requirement already satisfied: simplegeneric>0.8 in /usr/local/lib/python3.7/dist-packages (from ipython->ktrain) (0.8.1)\n",
            "Requirement already satisfied: pexpect; sys_platform != \"win32\" in /usr/local/lib/python3.7/dist-packages (from ipython->ktrain) (4.8.0)\n",
            "Requirement already satisfied: prompt-toolkit<2.0.0,>=1.0.4 in /usr/local/lib/python3.7/dist-packages (from ipython->ktrain) (1.0.18)\n",
            "Requirement already satisfied: traitlets>=4.2 in /usr/local/lib/python3.7/dist-packages (from ipython->ktrain) (5.0.5)\n",
            "Requirement already satisfied: h5py in /usr/local/lib/python3.7/dist-packages (from Keras>=2.4.3->keras-bert>=0.86.0->ktrain) (2.10.0)\n",
            "Requirement already satisfied: pyyaml in /usr/local/lib/python3.7/dist-packages (from Keras>=2.4.3->keras-bert>=0.86.0->ktrain) (3.13)\n",
            "Requirement already satisfied: keras-pos-embd>=0.11.0 in /usr/local/lib/python3.7/dist-packages (from keras-transformer>=0.38.0->keras-bert>=0.86.0->ktrain) (0.11.0)\n",
            "Requirement already satisfied: keras-multi-head>=0.27.0 in /usr/local/lib/python3.7/dist-packages (from keras-transformer>=0.38.0->keras-bert>=0.86.0->ktrain) (0.27.0)\n",
            "Requirement already satisfied: keras-embed-sim>=0.8.0 in /usr/local/lib/python3.7/dist-packages (from keras-transformer>=0.38.0->keras-bert>=0.86.0->ktrain) (0.8.0)\n",
            "Requirement already satisfied: keras-layer-normalization>=0.14.0 in /usr/local/lib/python3.7/dist-packages (from keras-transformer>=0.38.0->keras-bert>=0.86.0->ktrain) (0.14.0)\n",
            "Requirement already satisfied: keras-position-wise-feed-forward>=0.6.0 in /usr/local/lib/python3.7/dist-packages (from keras-transformer>=0.38.0->keras-bert>=0.86.0->ktrain) (0.6.0)\n",
            "Requirement already satisfied: zipp>=0.5 in /usr/local/lib/python3.7/dist-packages (from importlib-metadata; python_version < \"3.8\"->transformers<=4.3.3,>=4.0.0->ktrain) (3.4.1)\n",
            "Requirement already satisfied: typing-extensions>=3.6.4; python_version < \"3.8\" in /usr/local/lib/python3.7/dist-packages (from importlib-metadata; python_version < \"3.8\"->transformers<=4.3.3,>=4.0.0->ktrain) (3.7.4.3)\n",
            "Requirement already satisfied: click in /usr/local/lib/python3.7/dist-packages (from sacremoses->transformers<=4.3.3,>=4.0.0->ktrain) (8.0.0)\n",
            "Requirement already satisfied: ptyprocess>=0.5 in /usr/local/lib/python3.7/dist-packages (from pexpect; sys_platform != \"win32\"->ipython->ktrain) (0.7.0)\n",
            "Requirement already satisfied: wcwidth in /usr/local/lib/python3.7/dist-packages (from prompt-toolkit<2.0.0,>=1.0.4->ipython->ktrain) (0.2.5)\n",
            "Requirement already satisfied: ipython-genutils in /usr/local/lib/python3.7/dist-packages (from traitlets>=4.2->ipython->ktrain) (0.2.0)\n",
            "Requirement already satisfied: keras-self-attention==0.46.0 in /usr/local/lib/python3.7/dist-packages (from keras-multi-head>=0.27.0->keras-transformer>=0.38.0->keras-bert>=0.86.0->ktrain) (0.46.0)\n"
          ],
          "name": "stdout"
        }
      ]
    },
    {
      "cell_type": "code",
      "metadata": {
        "id": "UJiWqJpW-wgC"
      },
      "source": [
        "import ktrain\n",
        "from ktrain import text"
      ],
      "execution_count": 3,
      "outputs": []
    },
    {
      "cell_type": "code",
      "metadata": {
        "colab": {
          "base_uri": "https://localhost:8080/",
          "height": 35
        },
        "id": "T_J5hgOh_Ch6",
        "outputId": "e293bd6d-f8d9-4321-b6a0-c1fda4edcd56"
      },
      "source": [
        "ktrain.__version__"
      ],
      "execution_count": null,
      "outputs": [
        {
          "output_type": "execute_result",
          "data": {
            "application/vnd.google.colaboratory.intrinsic+json": {
              "type": "string"
            },
            "text/plain": [
              "'0.26.3'"
            ]
          },
          "metadata": {
            "tags": []
          },
          "execution_count": 2
        }
      ]
    },
    {
      "cell_type": "code",
      "metadata": {
        "colab": {
          "base_uri": "https://localhost:8080/",
          "height": 204
        },
        "id": "FUBVvpTB_Iws",
        "outputId": "f02244f9-b040-418f-f929-ce377bf5e8b3"
      },
      "source": [
        "import pandas as pd\n",
        "text_df = pd.read_fwf('/content/drive/MyDrive/Tensorflow_datasets_ryan/xtrain_obfuscated.txt',header=None,names=['Text'])\n",
        "novel_df = pd.read_fwf('/content/drive/MyDrive/Tensorflow_datasets_ryan/ytrain.txt',header=None,names=['Novel'])\n",
        "df= pd.concat([text_df, novel_df], axis=1)\n",
        "df.head()\n"
      ],
      "execution_count": 4,
      "outputs": [
        {
          "output_type": "execute_result",
          "data": {
            "text/html": [
              "<div>\n",
              "<style scoped>\n",
              "    .dataframe tbody tr th:only-of-type {\n",
              "        vertical-align: middle;\n",
              "    }\n",
              "\n",
              "    .dataframe tbody tr th {\n",
              "        vertical-align: top;\n",
              "    }\n",
              "\n",
              "    .dataframe thead th {\n",
              "        text-align: right;\n",
              "    }\n",
              "</style>\n",
              "<table border=\"1\" class=\"dataframe\">\n",
              "  <thead>\n",
              "    <tr style=\"text-align: right;\">\n",
              "      <th></th>\n",
              "      <th>Text</th>\n",
              "      <th>Novel</th>\n",
              "    </tr>\n",
              "  </thead>\n",
              "  <tbody>\n",
              "    <tr>\n",
              "      <th>0</th>\n",
              "      <td>satwamuluhqgulamlrmvezuhqvkrpmletwulcitwskuhle...</td>\n",
              "      <td>7</td>\n",
              "    </tr>\n",
              "    <tr>\n",
              "      <th>1</th>\n",
              "      <td>twmkiwpmqvtwleuhsaiwsktwmvlelekramuhqvkruhtwsk...</td>\n",
              "      <td>3</td>\n",
              "    </tr>\n",
              "    <tr>\n",
              "      <th>2</th>\n",
              "      <td>vidfpmskuhvilepmuluhtwtvuhulsovienamqvuhskiwmv...</td>\n",
              "      <td>8</td>\n",
              "    </tr>\n",
              "    <tr>\n",
              "      <th>3</th>\n",
              "      <td>raskleenkrlruhtwulenleengztwqvuhenuhsatvuhsktw...</td>\n",
              "      <td>3</td>\n",
              "    </tr>\n",
              "    <tr>\n",
              "      <th>4</th>\n",
              "      <td>dfenqvuhtwamqvuhqgtwiwtvenuluhqvijletwamulenxe...</td>\n",
              "      <td>4</td>\n",
              "    </tr>\n",
              "  </tbody>\n",
              "</table>\n",
              "</div>"
            ],
            "text/plain": [
              "                                                Text  Novel\n",
              "0  satwamuluhqgulamlrmvezuhqvkrpmletwulcitwskuhle...      7\n",
              "1  twmkiwpmqvtwleuhsaiwsktwmvlelekramuhqvkruhtwsk...      3\n",
              "2  vidfpmskuhvilepmuluhtwtvuhulsovienamqvuhskiwmv...      8\n",
              "3  raskleenkrlruhtwulenleengztwqvuhenuhsatvuhsktw...      3\n",
              "4  dfenqvuhtwamqvuhqgtwiwtvenuluhqvijletwamulenxe...      4"
            ]
          },
          "metadata": {
            "tags": []
          },
          "execution_count": 4
        }
      ]
    },
    {
      "cell_type": "code",
      "metadata": {
        "colab": {
          "base_uri": "https://localhost:8080/"
        },
        "id": "M6q7fTEeet21",
        "outputId": "5a56933c-6f25-40c2-d3c4-0797dd376f55"
      },
      "source": [
        "x=df.Novel.to_numpy()\n",
        "x"
      ],
      "execution_count": 12,
      "outputs": [
        {
          "output_type": "execute_result",
          "data": {
            "text/plain": [
              "array([ 7,  3,  8, ..., 10,  6,  3])"
            ]
          },
          "metadata": {
            "tags": []
          },
          "execution_count": 12
        }
      ]
    },
    {
      "cell_type": "code",
      "metadata": {
        "id": "o2eAWv-dfkFW"
      },
      "source": [
        "# tokenizer = keras.preprocessing.text.Tokenizer(char_level=True)\n",
        "# tokenizer.fit_on_texts(df['Text'].values)\n",
        "# character_sequences = tokenizer.texts_to_sequences(df['Text'].values)\n",
        "# sequence_matrix = keras.preprocessing.sequence.pad_sequences(character_sequences)\n",
        "sequence_matrix = df['Text'].values.tolist()\n",
        "categorical_labels = df.Novel.to_numpy()\n",
        "\n",
        "x_train, x_validation, y_train, y_validation = sklearn.model_selection.train_test_split(\n",
        "    sequence_matrix, categorical_labels, test_size=0.20)"
      ],
      "execution_count": 27,
      "outputs": []
    },
    {
      "cell_type": "code",
      "metadata": {
        "colab": {
          "base_uri": "https://localhost:8080/",
          "height": 103
        },
        "id": "I7LmvZodUBIX",
        "outputId": "97ab3b0b-b3b2-44c3-a425-9c9a0af8d7b0"
      },
      "source": [
        "sequence_matrix[0]"
      ],
      "execution_count": 18,
      "outputs": [
        {
          "output_type": "execute_result",
          "data": {
            "application/vnd.google.colaboratory.intrinsic+json": {
              "type": "string"
            },
            "text/plain": [
              "'satwamuluhqgulamlrmvezuhqvkrpmletwulcitwskuhlemvtwamuluhiwiwenuhlrvimvqvkruhulenamuluhqgqvtwvimviwuhtwamuluhulqvkrenamcitwuhvipmpmqvuhskiwkrpmdfuhlrvimvskvikrpmqvuhskmvgzenleuhqvmvamuluhulenamuluhqvletwtwvipmpmgzleenamuhtwamuluhtwletwdfuhiwkrxeleentwxeuhpmqvuhtwiwmvamdfuhpkeztwamuluhvimvuhqvtwmkpmpmlelruhgztwtwskuhtwlrkrpmlruhpmuluhqvenuhtwyplepmxeuhenuhamypkrqvuhamulmvdfuhqvskentwamletwlrlrpmiwuhtwamul'"
            ]
          },
          "metadata": {
            "tags": []
          },
          "execution_count": 18
        }
      ]
    },
    {
      "cell_type": "code",
      "metadata": {
        "colab": {
          "base_uri": "https://localhost:8080/"
        },
        "id": "b5cgmNeogEjx",
        "outputId": "a0a63959-078f-4d26-afdd-079bf0e98ba8"
      },
      "source": [
        "y_train"
      ],
      "execution_count": 20,
      "outputs": [
        {
          "output_type": "execute_result",
          "data": {
            "text/plain": [
              "11"
            ]
          },
          "metadata": {
            "tags": []
          },
          "execution_count": 20
        }
      ]
    },
    {
      "cell_type": "code",
      "metadata": {
        "id": "WyDDEA4GehIr"
      },
      "source": [
        "# load text data\n",
        "categories = ['alice_in_wonderland','dracula','dubliners','great_expectations','hard_times','huckleberry_finn','les_miserable','moby_dick','oliver_twist','peter_pan','talw_of_two_cities','tom_sawyer']\n",
        "\n",
        "(x_train, y_train) = (x_train, y_train)\n",
        "(x_test, y_test) = (x_validation, y_validation)\n",
        "\n",
        "# build, train, and validate model (Transformer is wrapper around transformers library)\n",
        "import ktrain\n",
        "from ktrain import text\n",
        "MODEL_NAME = 'distilbert-base-uncased'\n",
        "t = text.Transformer(MODEL_NAME, maxlen=435, class_names=categories)\n",
        "trn = t.preprocess_train(x_train, y_train)\n",
        "val = t.preprocess_test(x_test, y_test)\n",
        "model = t.get_classifier(multilabel=False)\n",
        "learner = ktrain.get_learner(model, train_data=trn, val_data=val, batch_size=20)\n",
        "learner.fit_onecycle(2e-5, 4)\n",
        "learner.validate(class_names=t.get_classes()) # class_names must be string values"
      ],
      "execution_count": 28,
      "outputs": []
    },
    {
      "cell_type": "code",
      "metadata": {
        "id": "HE4dZALzehEc"
      },
      "source": [
        "learner.lr_find(max_epochs=10)"
      ],
      "execution_count": 13,
      "outputs": []
    },
    {
      "cell_type": "code",
      "metadata": {
        "id": "imePxjRsehAm"
      },
      "source": [
        ""
      ],
      "execution_count": null,
      "outputs": []
    },
    {
      "cell_type": "code",
      "metadata": {
        "id": "k_REcpqteg2B"
      },
      "source": [
        ""
      ],
      "execution_count": null,
      "outputs": []
    },
    {
      "cell_type": "code",
      "metadata": {
        "id": "eMmp5P1-_cOl"
      },
      "source": [
        "import numpy as np\n",
        "import pdb\n",
        "\n",
        "from keras.models import Model\n",
        "from keras.layers import *\n",
        "from keras.optimizers import *\n",
        "from keras.callbacks import ModelCheckpoint\n",
        "from keras.utils.vis_utils import plot_model\n",
        "\n",
        "from AttentionLayer import Attention\n",
        "import utils\n",
        "\n",
        "#SINGLE_ATTENTION_VECTOR=True\n",
        "\n",
        "xtra, ytra, xval, yval = utils.readMemmap()\n",
        "\n",
        "main_input = Input(shape= (xtra.shape[1],), dtype='float32')\n",
        "masked_input = Masking(mask_value=0)(main_input)\n",
        "\n",
        "embedded_input = Embedding(27,27,input_length=452)(masked_input)\n",
        "embedded_input = Dropout(0.2)(embedded_input)\n",
        "x1 = GRU(128, return_sequences=True, activation='tanh')(embedded_input)\n",
        "x1 = Dropout(0.2)(x1)\n",
        "x1 = GRU(64, return_sequences=True, activation='tanh')(x1)\n",
        "x1 = Attention(x1,input_dim,time_steps,SINGLE_ATTENTION_VECTOR)\n",
        "x1 = Attention()(x1)\n",
        "\n",
        "embedded_input_s = Embedding(27,27,input_length=452)(masked_input)\n",
        "embedded_input_s = Dropout(0.2)(embedded_input_s)\n",
        "x_s = GRU(64, return_sequences=True, activation='tanh')(embedded_input_s)\n",
        "x_s = Attention()(x_s)\n",
        "\n",
        "x = concatenate([x1,x_s])\n",
        "\n",
        "x = Dense(256)(x)\n",
        "x = Dropout(0.2)(x)\n",
        "x = LeakyReLU()(x)\n",
        "\n",
        "x = Dense(256)(x)\n",
        "x = Dropout(0.2)(x)\n",
        "x = LeakyReLU()(x)\n",
        "\n",
        "x = Dense(128)(x)\n",
        "x = Dropout(0.2)(x)\n",
        "x = LeakyReLU()(x)\n",
        "\n",
        "x = Dense(64)(x)\n",
        "x = Dropout(0.2)(x)\n",
        "x = LeakyReLU()(x)\n",
        "\n",
        "output = Dense(12, activation='softmax')(x)\n",
        "model = Model(inputs= main_input, outputs= output)\n",
        "model.compile(optimizer='adam', loss='categorical_crossentropy', metrics=['accuracy'])\n",
        "\n",
        "filepath=\"models/GRU_Attention_SmartMax_loss_{loss:.4f}-acc_{acc:.4f}-vloss_{val_loss:.4f}-vacc_{val_acc:.4f}.hdf5\"\n",
        "checkpoint = ModelCheckpoint(filepath, monitor='val_loss', verbose=1, save_best_only=True, mode='auto')\n",
        "callbacks_list = [checkpoint]\n",
        "\n",
        "print(model.summary())\n",
        "plot_model(model, to_file='plot/4_GRU_Atten_Mask.png', show_shapes=True, show_layer_names=False)\n",
        "\n",
        "model.fit(xtra, ytra, epochs=100, validation_data=(xval,yval), batch_size=100, callbacks=callbacks_list)\n",
        "\n",
        "yval_hat = model.predict(xval)\n",
        "pr = calPrecisionRecall(yval, yval_hat)"
      ],
      "execution_count": null,
      "outputs": []
    },
    {
      "cell_type": "code",
      "metadata": {
        "id": "ZnyahJAS0pNC"
      },
      "source": [
        "def inputs(bob,al):\n",
        "    count = 0\n",
        "    for i in str(bob):\n",
        "        for j in str(al):\n",
        "            if i==j:\n",
        "                count+=1\n",
        "    return count"
      ],
      "execution_count": 45,
      "outputs": []
    },
    {
      "cell_type": "code",
      "metadata": {
        "colab": {
          "base_uri": "https://localhost:8080/"
        },
        "id": "GQBLSDK70r53",
        "outputId": "21b3fb56-0fea-456c-807b-3bd05df1c9fa"
      },
      "source": [
        "inputs(101010,101010)"
      ],
      "execution_count": 46,
      "outputs": [
        {
          "output_type": "execute_result",
          "data": {
            "text/plain": [
              "18"
            ]
          },
          "metadata": {
            "tags": []
          },
          "execution_count": 46
        }
      ]
    },
    {
      "cell_type": "code",
      "metadata": {
        "colab": {
          "base_uri": "https://localhost:8080/"
        },
        "id": "VCDhDhkn0u9l",
        "outputId": "df3aa486-4d0b-49a0-f17b-cdd72bfacaf2"
      },
      "source": [
        "a = 12345\n",
        "for i in range (len(str(a))):\n",
        "  str(a)[i]"
      ],
      "execution_count": 54,
      "outputs": [
        {
          "output_type": "stream",
          "text": [
            "1\n",
            "2\n",
            "3\n",
            "4\n",
            "5\n"
          ],
          "name": "stdout"
        }
      ]
    },
    {
      "cell_type": "code",
      "metadata": {
        "colab": {
          "base_uri": "https://localhost:8080/",
          "height": 164
        },
        "id": "5Zjp85-X1TNI",
        "outputId": "3dcf4c16-b8ab-4ad4-d516-b690c6e11a0e"
      },
      "source": [
        ""
      ],
      "execution_count": 43,
      "outputs": [
        {
          "output_type": "error",
          "ename": "TypeError",
          "evalue": "ignored",
          "traceback": [
            "\u001b[0;31m---------------------------------------------------------------------------\u001b[0m",
            "\u001b[0;31mTypeError\u001b[0m                                 Traceback (most recent call last)",
            "\u001b[0;32m<ipython-input-43-8bc71255a22e>\u001b[0m in \u001b[0;36m<module>\u001b[0;34m()\u001b[0m\n\u001b[0;32m----> 1\u001b[0;31m \u001b[0ma\u001b[0m\u001b[0;34m[\u001b[0m\u001b[0;36m1\u001b[0m\u001b[0;34m]\u001b[0m\u001b[0;34m\u001b[0m\u001b[0;34m\u001b[0m\u001b[0m\n\u001b[0m",
            "\u001b[0;31mTypeError\u001b[0m: 'int' object is not subscriptable"
          ]
        }
      ]
    },
    {
      "cell_type": "code",
      "metadata": {
        "id": "tGQkH5v22wEk"
      },
      "source": [
        ""
      ],
      "execution_count": null,
      "outputs": []
    }
  ]
}